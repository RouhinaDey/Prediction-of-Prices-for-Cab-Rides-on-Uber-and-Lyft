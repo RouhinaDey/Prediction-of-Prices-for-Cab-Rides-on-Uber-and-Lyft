{
 "cells": [
  {
   "cell_type": "markdown",
   "metadata": {},
   "source": [
    "## Objective - To pedict prices for cab rides of Uber and Lyft\n",
    "\n",
    "### Table of Contents\n",
    "#### 1. Importing Libraries\n",
    "#### 2. Loading the data from previous jupyter notebook \n",
    "#### 3. Splitting the data into Train and Test data\n",
    "#### 4. Making the data Model Ready\n",
    "#### 5. Hyperparameter Tuning in Linear Regression using GridsearchCV\n",
    "#### 6. Ridge Regularization\n",
    "#### 7. Lasso Regularization\n",
    "#### 8. Elastic Net Regularization\n",
    "#### 9. Inferences and conclusions"
   ]
  },
  {
   "cell_type": "markdown",
   "metadata": {},
   "source": [
    "### 1. Importing Libraries"
   ]
  },
  {
   "cell_type": "code",
   "execution_count": 1,
   "metadata": {},
   "outputs": [],
   "source": [
    "import pandas as pd\n",
    "import numpy as np\n",
    "import matplotlib.pyplot as plt\n",
    "import seaborn as sns\n",
    "import sklearn\n",
    "from sklearn import preprocessing\n",
    "from collections import Counter\n",
    "from sklearn.preprocessing import StandardScaler\n",
    "from sklearn.preprocessing import OneHotEncoder\n",
    "from sklearn.model_selection import train_test_split\n",
    "from sklearn.feature_extraction.text import TfidfVectorizer\n",
    "from sklearn.feature_extraction.text import CountVectorizer\n",
    "from scipy.sparse import hstack\n",
    "from sklearn.neighbors import KNeighborsClassifier\n",
    "from tqdm import tqdm\n",
    "from sklearn.linear_model import LinearRegression\n",
    "from sklearn.model_selection import GridSearchCV\n",
    "from sklearn.linear_model import Ridge\n",
    "import math\n",
    "from sklearn.linear_model import Lasso\n",
    "from sklearn.linear_model import ElasticNet"
   ]
  },
  {
   "cell_type": "markdown",
   "metadata": {},
   "source": [
    "###  2. Loading the data from previous jupyter notebook"
   ]
  },
  {
   "cell_type": "code",
   "execution_count": 2,
   "metadata": {},
   "outputs": [
    {
     "data": {
      "text/html": [
       "<div>\n",
       "<style scoped>\n",
       "    .dataframe tbody tr th:only-of-type {\n",
       "        vertical-align: middle;\n",
       "    }\n",
       "\n",
       "    .dataframe tbody tr th {\n",
       "        vertical-align: top;\n",
       "    }\n",
       "\n",
       "    .dataframe thead th {\n",
       "        text-align: right;\n",
       "    }\n",
       "</style>\n",
       "<table border=\"1\" class=\"dataframe\">\n",
       "  <thead>\n",
       "    <tr style=\"text-align: right;\">\n",
       "      <th></th>\n",
       "      <th>distance</th>\n",
       "      <th>cab_type</th>\n",
       "      <th>time_stamp</th>\n",
       "      <th>destination</th>\n",
       "      <th>source</th>\n",
       "      <th>price</th>\n",
       "      <th>surge_multiplier</th>\n",
       "      <th>name</th>\n",
       "      <th>date_time</th>\n",
       "      <th>time</th>\n",
       "      <th>date</th>\n",
       "      <th>hour</th>\n",
       "      <th>day</th>\n",
       "      <th>time_of_day</th>\n",
       "    </tr>\n",
       "  </thead>\n",
       "  <tbody>\n",
       "    <tr>\n",
       "      <th>0</th>\n",
       "      <td>0.44</td>\n",
       "      <td>Lyft</td>\n",
       "      <td>1544952607890</td>\n",
       "      <td>North Station</td>\n",
       "      <td>Haymarket Square</td>\n",
       "      <td>5.0</td>\n",
       "      <td>1.0</td>\n",
       "      <td>Shared</td>\n",
       "      <td>2018-12-16 09:30:07.890000105</td>\n",
       "      <td>09:30:07.890000</td>\n",
       "      <td>2018-12-16</td>\n",
       "      <td>9</td>\n",
       "      <td>Sunday</td>\n",
       "      <td>Morning</td>\n",
       "    </tr>\n",
       "    <tr>\n",
       "      <th>1</th>\n",
       "      <td>0.44</td>\n",
       "      <td>Lyft</td>\n",
       "      <td>1543284023677</td>\n",
       "      <td>North Station</td>\n",
       "      <td>Haymarket Square</td>\n",
       "      <td>11.0</td>\n",
       "      <td>1.0</td>\n",
       "      <td>Lux</td>\n",
       "      <td>2018-11-27 02:00:23.677000046</td>\n",
       "      <td>02:00:23.677000</td>\n",
       "      <td>2018-11-27</td>\n",
       "      <td>2</td>\n",
       "      <td>Tuesday</td>\n",
       "      <td>Night</td>\n",
       "    </tr>\n",
       "    <tr>\n",
       "      <th>2</th>\n",
       "      <td>0.44</td>\n",
       "      <td>Lyft</td>\n",
       "      <td>1543366822198</td>\n",
       "      <td>North Station</td>\n",
       "      <td>Haymarket Square</td>\n",
       "      <td>7.0</td>\n",
       "      <td>1.0</td>\n",
       "      <td>Lyft</td>\n",
       "      <td>2018-11-28 01:00:22.197999954</td>\n",
       "      <td>01:00:22.197999</td>\n",
       "      <td>2018-11-28</td>\n",
       "      <td>1</td>\n",
       "      <td>Wednesday</td>\n",
       "      <td>Night</td>\n",
       "    </tr>\n",
       "    <tr>\n",
       "      <th>3</th>\n",
       "      <td>0.44</td>\n",
       "      <td>Lyft</td>\n",
       "      <td>1543553582749</td>\n",
       "      <td>North Station</td>\n",
       "      <td>Haymarket Square</td>\n",
       "      <td>26.0</td>\n",
       "      <td>1.0</td>\n",
       "      <td>Lux Black XL</td>\n",
       "      <td>2018-11-30 04:53:02.749000072</td>\n",
       "      <td>04:53:02.749000</td>\n",
       "      <td>2018-11-30</td>\n",
       "      <td>4</td>\n",
       "      <td>Friday</td>\n",
       "      <td>Night</td>\n",
       "    </tr>\n",
       "    <tr>\n",
       "      <th>4</th>\n",
       "      <td>0.44</td>\n",
       "      <td>Lyft</td>\n",
       "      <td>1543463360223</td>\n",
       "      <td>North Station</td>\n",
       "      <td>Haymarket Square</td>\n",
       "      <td>9.0</td>\n",
       "      <td>1.0</td>\n",
       "      <td>Lyft XL</td>\n",
       "      <td>2018-11-29 03:49:20.223000050</td>\n",
       "      <td>03:49:20.223000</td>\n",
       "      <td>2018-11-29</td>\n",
       "      <td>3</td>\n",
       "      <td>Thursday</td>\n",
       "      <td>Night</td>\n",
       "    </tr>\n",
       "  </tbody>\n",
       "</table>\n",
       "</div>"
      ],
      "text/plain": [
       "   distance cab_type     time_stamp    destination            source  price  \\\n",
       "0      0.44     Lyft  1544952607890  North Station  Haymarket Square    5.0   \n",
       "1      0.44     Lyft  1543284023677  North Station  Haymarket Square   11.0   \n",
       "2      0.44     Lyft  1543366822198  North Station  Haymarket Square    7.0   \n",
       "3      0.44     Lyft  1543553582749  North Station  Haymarket Square   26.0   \n",
       "4      0.44     Lyft  1543463360223  North Station  Haymarket Square    9.0   \n",
       "\n",
       "   surge_multiplier          name                      date_time  \\\n",
       "0               1.0        Shared  2018-12-16 09:30:07.890000105   \n",
       "1               1.0           Lux  2018-11-27 02:00:23.677000046   \n",
       "2               1.0          Lyft  2018-11-28 01:00:22.197999954   \n",
       "3               1.0  Lux Black XL  2018-11-30 04:53:02.749000072   \n",
       "4               1.0       Lyft XL  2018-11-29 03:49:20.223000050   \n",
       "\n",
       "              time        date  hour        day time_of_day  \n",
       "0  09:30:07.890000  2018-12-16     9     Sunday     Morning  \n",
       "1  02:00:23.677000  2018-11-27     2    Tuesday       Night  \n",
       "2  01:00:22.197999  2018-11-28     1  Wednesday       Night  \n",
       "3  04:53:02.749000  2018-11-30     4     Friday       Night  \n",
       "4  03:49:20.223000  2018-11-29     3   Thursday       Night  "
      ]
     },
     "execution_count": 2,
     "metadata": {},
     "output_type": "execute_result"
    }
   ],
   "source": [
    "cab= pd.read_csv(\"cab.csv\")\n",
    "#https://stackoverflow.com/questions/43983622/remove-unnamed-columns-in-pandas-dataframe/43983654\n",
    "cab.drop(cab.columns[cab.columns.str.contains('unnamed',case = False)],axis = 1, inplace = True)\n",
    "\n",
    "cab.head()"
   ]
  },
  {
   "cell_type": "code",
   "execution_count": 3,
   "metadata": {
    "scrolled": true
   },
   "outputs": [
    {
     "data": {
      "text/html": [
       "<div>\n",
       "<style scoped>\n",
       "    .dataframe tbody tr th:only-of-type {\n",
       "        vertical-align: middle;\n",
       "    }\n",
       "\n",
       "    .dataframe tbody tr th {\n",
       "        vertical-align: top;\n",
       "    }\n",
       "\n",
       "    .dataframe thead th {\n",
       "        text-align: right;\n",
       "    }\n",
       "</style>\n",
       "<table border=\"1\" class=\"dataframe\">\n",
       "  <thead>\n",
       "    <tr style=\"text-align: right;\">\n",
       "      <th></th>\n",
       "      <th>distance</th>\n",
       "      <th>cab_type</th>\n",
       "      <th>destination</th>\n",
       "      <th>source</th>\n",
       "      <th>price</th>\n",
       "      <th>surge_multiplier</th>\n",
       "      <th>name</th>\n",
       "      <th>time</th>\n",
       "      <th>hour</th>\n",
       "      <th>day</th>\n",
       "      <th>time_of_day</th>\n",
       "    </tr>\n",
       "  </thead>\n",
       "  <tbody>\n",
       "    <tr>\n",
       "      <th>0</th>\n",
       "      <td>0.44</td>\n",
       "      <td>Lyft</td>\n",
       "      <td>North Station</td>\n",
       "      <td>Haymarket Square</td>\n",
       "      <td>5.0</td>\n",
       "      <td>1.0</td>\n",
       "      <td>Shared</td>\n",
       "      <td>09:30:07.890000</td>\n",
       "      <td>9</td>\n",
       "      <td>Sunday</td>\n",
       "      <td>Morning</td>\n",
       "    </tr>\n",
       "    <tr>\n",
       "      <th>1</th>\n",
       "      <td>0.44</td>\n",
       "      <td>Lyft</td>\n",
       "      <td>North Station</td>\n",
       "      <td>Haymarket Square</td>\n",
       "      <td>11.0</td>\n",
       "      <td>1.0</td>\n",
       "      <td>Lux</td>\n",
       "      <td>02:00:23.677000</td>\n",
       "      <td>2</td>\n",
       "      <td>Tuesday</td>\n",
       "      <td>Night</td>\n",
       "    </tr>\n",
       "    <tr>\n",
       "      <th>2</th>\n",
       "      <td>0.44</td>\n",
       "      <td>Lyft</td>\n",
       "      <td>North Station</td>\n",
       "      <td>Haymarket Square</td>\n",
       "      <td>7.0</td>\n",
       "      <td>1.0</td>\n",
       "      <td>Lyft</td>\n",
       "      <td>01:00:22.197999</td>\n",
       "      <td>1</td>\n",
       "      <td>Wednesday</td>\n",
       "      <td>Night</td>\n",
       "    </tr>\n",
       "    <tr>\n",
       "      <th>3</th>\n",
       "      <td>0.44</td>\n",
       "      <td>Lyft</td>\n",
       "      <td>North Station</td>\n",
       "      <td>Haymarket Square</td>\n",
       "      <td>26.0</td>\n",
       "      <td>1.0</td>\n",
       "      <td>Lux Black XL</td>\n",
       "      <td>04:53:02.749000</td>\n",
       "      <td>4</td>\n",
       "      <td>Friday</td>\n",
       "      <td>Night</td>\n",
       "    </tr>\n",
       "    <tr>\n",
       "      <th>4</th>\n",
       "      <td>0.44</td>\n",
       "      <td>Lyft</td>\n",
       "      <td>North Station</td>\n",
       "      <td>Haymarket Square</td>\n",
       "      <td>9.0</td>\n",
       "      <td>1.0</td>\n",
       "      <td>Lyft XL</td>\n",
       "      <td>03:49:20.223000</td>\n",
       "      <td>3</td>\n",
       "      <td>Thursday</td>\n",
       "      <td>Night</td>\n",
       "    </tr>\n",
       "  </tbody>\n",
       "</table>\n",
       "</div>"
      ],
      "text/plain": [
       "   distance cab_type    destination            source  price  \\\n",
       "0      0.44     Lyft  North Station  Haymarket Square    5.0   \n",
       "1      0.44     Lyft  North Station  Haymarket Square   11.0   \n",
       "2      0.44     Lyft  North Station  Haymarket Square    7.0   \n",
       "3      0.44     Lyft  North Station  Haymarket Square   26.0   \n",
       "4      0.44     Lyft  North Station  Haymarket Square    9.0   \n",
       "\n",
       "   surge_multiplier          name             time  hour        day  \\\n",
       "0               1.0        Shared  09:30:07.890000     9     Sunday   \n",
       "1               1.0           Lux  02:00:23.677000     2    Tuesday   \n",
       "2               1.0          Lyft  01:00:22.197999     1  Wednesday   \n",
       "3               1.0  Lux Black XL  04:53:02.749000     4     Friday   \n",
       "4               1.0       Lyft XL  03:49:20.223000     3   Thursday   \n",
       "\n",
       "  time_of_day  \n",
       "0     Morning  \n",
       "1       Night  \n",
       "2       Night  \n",
       "3       Night  \n",
       "4       Night  "
      ]
     },
     "execution_count": 3,
     "metadata": {},
     "output_type": "execute_result"
    }
   ],
   "source": [
    "cab_df= cab.drop([\"time_stamp\",\"date_time\",\"date\"],axis=1)\n",
    "cab_df.head()"
   ]
  },
  {
   "cell_type": "markdown",
   "metadata": {},
   "source": [
    "### Checking missing values"
   ]
  },
  {
   "cell_type": "code",
   "execution_count": 4,
   "metadata": {},
   "outputs": [
    {
     "data": {
      "text/plain": [
       "distance            0\n",
       "cab_type            0\n",
       "time_stamp          0\n",
       "destination         0\n",
       "source              0\n",
       "price               0\n",
       "surge_multiplier    0\n",
       "name                0\n",
       "date_time           0\n",
       "time                0\n",
       "date                0\n",
       "hour                0\n",
       "day                 0\n",
       "time_of_day         0\n",
       "dtype: int64"
      ]
     },
     "execution_count": 4,
     "metadata": {},
     "output_type": "execute_result"
    }
   ],
   "source": [
    "cab.isnull().sum()"
   ]
  },
  {
   "cell_type": "markdown",
   "metadata": {},
   "source": [
    "#### There are no missing values in the data."
   ]
  },
  {
   "cell_type": "code",
   "execution_count": 5,
   "metadata": {},
   "outputs": [],
   "source": [
    "#preprocessing of time\n",
    "cab[\"time\"] = cab[\"time\"].str.replace(\":\",\"\")\n",
    "cab[\"time\"] = cab[\"time\"].astype(float)"
   ]
  },
  {
   "cell_type": "markdown",
   "metadata": {},
   "source": [
    "#### Preprocessing price"
   ]
  },
  {
   "cell_type": "code",
   "execution_count": 6,
   "metadata": {},
   "outputs": [],
   "source": [
    "scaler= StandardScaler()\n",
    "cab[\"price\"] = scaler.fit_transform(cab[\"price\"].values.reshape(-1,1))\n"
   ]
  },
  {
   "cell_type": "code",
   "execution_count": 7,
   "metadata": {},
   "outputs": [],
   "source": [
    "X = cab.drop([\"price\"], axis=1)\n",
    "Y = cab[\"price\"]"
   ]
  },
  {
   "cell_type": "markdown",
   "metadata": {},
   "source": [
    "### 3. Splitting the data into Train and Test data"
   ]
  },
  {
   "cell_type": "code",
   "execution_count": 8,
   "metadata": {},
   "outputs": [
    {
     "name": "stdout",
     "output_type": "stream",
     "text": [
      "(464357, 13) (464357,)\n",
      "(228714, 13) (228714,)\n"
     ]
    }
   ],
   "source": [
    "X_train, X_test, Y_train, Y_test = train_test_split(X, Y, test_size=0.33,random_state=0)\n",
    "print(X_train.shape,Y_train.shape)\n",
    "print(X_test.shape, Y_test.shape)"
   ]
  },
  {
   "cell_type": "markdown",
   "metadata": {},
   "source": [
    "### 4. Making the data Model ready"
   ]
  },
  {
   "cell_type": "markdown",
   "metadata": {},
   "source": [
    "### Preprocessing Categorical Features"
   ]
  },
  {
   "cell_type": "markdown",
   "metadata": {},
   "source": [
    "#### destination"
   ]
  },
  {
   "cell_type": "code",
   "execution_count": 9,
   "metadata": {},
   "outputs": [
    {
     "name": "stdout",
     "output_type": "stream",
     "text": [
      "(464357, 18) (464357,)\n",
      "(228714, 18) (228714,)\n"
     ]
    }
   ],
   "source": [
    "vectorizer= TfidfVectorizer()\n",
    "destination = vectorizer.fit(X_train[\"destination\"].values)\n",
    "X_train_destination = vectorizer.transform(X_train[\"destination\"].values)\n",
    "X_test_destination = vectorizer.transform(X_test[\"destination\"].values)\n",
    "\n",
    "print(X_train_destination.shape, Y_train.shape)\n",
    "print(X_test_destination.shape, Y_test.shape)"
   ]
  },
  {
   "cell_type": "markdown",
   "metadata": {},
   "source": [
    "#### source"
   ]
  },
  {
   "cell_type": "code",
   "execution_count": 10,
   "metadata": {},
   "outputs": [
    {
     "name": "stdout",
     "output_type": "stream",
     "text": [
      "(464357, 18) (464357,)\n",
      "(228714, 18) (228714,)\n"
     ]
    }
   ],
   "source": [
    "vectorizer= TfidfVectorizer()\n",
    "source = vectorizer.fit(X_train[\"source\"].values)\n",
    "X_train_source = vectorizer.transform(X_train[\"source\"].values)\n",
    "X_test_source = vectorizer.transform(X_test[\"source\"].values)\n",
    "\n",
    "print(X_train_source.shape, Y_train.shape)\n",
    "print(X_test_source.shape, Y_test.shape)"
   ]
  },
  {
   "cell_type": "markdown",
   "metadata": {},
   "source": [
    "#### day"
   ]
  },
  {
   "cell_type": "code",
   "execution_count": 11,
   "metadata": {},
   "outputs": [
    {
     "name": "stdout",
     "output_type": "stream",
     "text": [
      "(464357, 7) (464357,)\n",
      "(228714, 7) (228714,)\n"
     ]
    }
   ],
   "source": [
    "vectorizer= TfidfVectorizer()\n",
    "day = vectorizer.fit(X_train[\"day\"].values)\n",
    "X_train_day = vectorizer.transform(X_train[\"day\"].values)\n",
    "X_test_day = vectorizer.transform(X_test[\"day\"].values)\n",
    "\n",
    "print(X_train_day.shape, Y_train.shape)\n",
    "print(X_test_day.shape, Y_test.shape)"
   ]
  },
  {
   "cell_type": "markdown",
   "metadata": {},
   "source": [
    "#### time_of_day"
   ]
  },
  {
   "cell_type": "code",
   "execution_count": 12,
   "metadata": {},
   "outputs": [
    {
     "name": "stdout",
     "output_type": "stream",
     "text": [
      "(464357, 4) (464357,)\n",
      "(228714, 4) (228714,)\n"
     ]
    }
   ],
   "source": [
    "vectorizer= TfidfVectorizer()\n",
    "time_day = vectorizer.fit(X_train[\"time_of_day\"].values)\n",
    "X_train_time_day = vectorizer.transform(X_train[\"time_of_day\"].values)\n",
    "X_test_time_day = vectorizer.transform(X_test[\"time_of_day\"].values)\n",
    "\n",
    "print(X_train_time_day.shape, Y_train.shape)\n",
    "print(X_test_time_day.shape, Y_test.shape)"
   ]
  },
  {
   "cell_type": "markdown",
   "metadata": {},
   "source": [
    "#### name"
   ]
  },
  {
   "cell_type": "code",
   "execution_count": 13,
   "metadata": {},
   "outputs": [
    {
     "name": "stdout",
     "output_type": "stream",
     "text": [
      "(464357, 11) (464357,)\n",
      "(228714, 11) (228714,)\n"
     ]
    }
   ],
   "source": [
    "vectorizer= TfidfVectorizer()\n",
    "name = vectorizer.fit(X_train[\"name\"].values)\n",
    "X_train_name = vectorizer.transform(X_train[\"name\"].values)\n",
    "X_test_name = vectorizer.transform(X_test[\"name\"].values)\n",
    "\n",
    "print(X_train_name.shape, Y_train.shape)\n",
    "print(X_test_name.shape, Y_test.shape)"
   ]
  },
  {
   "cell_type": "markdown",
   "metadata": {},
   "source": [
    "#### cab_type"
   ]
  },
  {
   "cell_type": "code",
   "execution_count": 14,
   "metadata": {},
   "outputs": [],
   "source": [
    "#https://stackoverflow.com/a/613218/4084039\n",
    "my_counter = Counter()\n",
    "for word in cab['cab_type'].values:\n",
    "    my_counter.update(word.split())\n",
    "\n",
    "cab_dict = dict(my_counter)\n",
    "sorted_cab_dict = dict(sorted(cab_dict.items(), key=lambda kv: kv[1]))"
   ]
  },
  {
   "cell_type": "code",
   "execution_count": 15,
   "metadata": {},
   "outputs": [
    {
     "name": "stdout",
     "output_type": "stream",
     "text": [
      "(464357, 2) (464357,)\n",
      "(228714, 2) (228714,)\n"
     ]
    }
   ],
   "source": [
    "#one-hot encoding\n",
    "vectorizer= CountVectorizer(vocabulary=list(sorted_cab_dict.keys()),lowercase=False, binary=True)\n",
    "\n",
    "cab_type = vectorizer.fit(X_train[\"cab_type\"].values)\n",
    "X_train_cab_type = vectorizer.transform(X_train[\"cab_type\"].values)\n",
    "X_test_cab_type = vectorizer.transform(X_test[\"cab_type\"].values)\n",
    "\n",
    "print(X_train_cab_type.shape, Y_train.shape)\n",
    "print(X_test_cab_type.shape, Y_test.shape)\n"
   ]
  },
  {
   "cell_type": "markdown",
   "metadata": {},
   "source": [
    "### Preprocessing Numerical Features"
   ]
  },
  {
   "cell_type": "markdown",
   "metadata": {},
   "source": [
    "#### distance"
   ]
  },
  {
   "cell_type": "code",
   "execution_count": 16,
   "metadata": {},
   "outputs": [
    {
     "name": "stdout",
     "output_type": "stream",
     "text": [
      "(464357, 1) (464357,)\n",
      "(228714, 1) (228714,)\n"
     ]
    }
   ],
   "source": [
    "scaler= StandardScaler()\n",
    "\n",
    "distance = scaler.fit(X_train[\"distance\"].values.reshape(-1,1))\n",
    "X_train_distance = scaler.transform(X_train[\"distance\"].values.reshape(-1,1))\n",
    "X_test_distance = scaler.transform(X_test[\"distance\"].values.reshape(-1,1))\n",
    "\n",
    "print(X_train_distance.shape, Y_train.shape)\n",
    "print(X_test_distance.shape, Y_test.shape)\n",
    "\n",
    "\n"
   ]
  },
  {
   "cell_type": "markdown",
   "metadata": {},
   "source": [
    "#### surge_multiplier"
   ]
  },
  {
   "cell_type": "code",
   "execution_count": 17,
   "metadata": {},
   "outputs": [
    {
     "name": "stdout",
     "output_type": "stream",
     "text": [
      "(464357, 1) (464357,)\n",
      "(228714, 1) (228714,)\n"
     ]
    }
   ],
   "source": [
    "scaler= StandardScaler()\n",
    "\n",
    "surge_multiplier = scaler.fit(X_train[\"surge_multiplier\"].values.reshape(-1,1))\n",
    "X_train_surge_multiplier = scaler.transform(X_train[\"surge_multiplier\"].values.reshape(-1,1))\n",
    "X_test_surge_multiplier = scaler.transform(X_test[\"surge_multiplier\"].values.reshape(-1,1))\n",
    "\n",
    "print(X_train_surge_multiplier.shape, Y_train.shape)\n",
    "print(X_test_surge_multiplier.shape, Y_test.shape)\n"
   ]
  },
  {
   "cell_type": "markdown",
   "metadata": {},
   "source": [
    "#### hour"
   ]
  },
  {
   "cell_type": "code",
   "execution_count": 18,
   "metadata": {},
   "outputs": [
    {
     "name": "stdout",
     "output_type": "stream",
     "text": [
      "(464357, 1) (464357,)\n",
      "(228714, 1) (228714,)\n"
     ]
    }
   ],
   "source": [
    "scaler= StandardScaler()\n",
    "\n",
    "hour = scaler.fit(X_train[\"hour\"].values.reshape(-1,1))\n",
    "X_train_hour = scaler.transform(X_train[\"hour\"].values.reshape(-1,1))\n",
    "X_test_hour = scaler.transform(X_test[\"hour\"].values.reshape(-1,1))\n",
    "\n",
    "print(X_train_hour.shape, Y_train.shape)\n",
    "print(X_test_hour.shape, Y_test.shape)\n",
    "\n",
    "\n"
   ]
  },
  {
   "cell_type": "markdown",
   "metadata": {},
   "source": [
    "#### time"
   ]
  },
  {
   "cell_type": "code",
   "execution_count": 19,
   "metadata": {},
   "outputs": [
    {
     "name": "stdout",
     "output_type": "stream",
     "text": [
      "(464357, 1) (464357,)\n",
      "(228714, 1) (228714,)\n"
     ]
    }
   ],
   "source": [
    "scaler= StandardScaler()\n",
    "\n",
    "time = scaler.fit(X_train[\"time\"].values.reshape(-1,1))\n",
    "X_train_time = scaler.transform(X_train[\"time\"].values.reshape(-1,1))\n",
    "X_test_time = scaler.transform(X_test[\"time\"].values.reshape(-1,1))\n",
    "\n",
    "print(X_train_time.shape, Y_train.shape)\n",
    "print(X_test_time.shape, Y_test.shape)\n",
    "\n",
    "\n"
   ]
  },
  {
   "cell_type": "markdown",
   "metadata": {},
   "source": [
    "### Concatenating all the features"
   ]
  },
  {
   "cell_type": "code",
   "execution_count": 20,
   "metadata": {},
   "outputs": [
    {
     "name": "stdout",
     "output_type": "stream",
     "text": [
      "(464357, 64) (464357,)\n",
      "(228714, 64) (228714,)\n"
     ]
    }
   ],
   "source": [
    "#concatenating all the features\n",
    "\n",
    "xtrain = hstack((X_train_destination,X_train_day,X_train_time,X_train_hour,X_train_surge_multiplier,X_train_cab_type,X_train_time_day,X_train_name,X_train_distance, X_train_source)).tocsr()\n",
    "xtest = hstack((X_test_destination,X_test_day,X_test_time,X_test_hour,X_test_surge_multiplier,X_test_cab_type,X_test_time_day,X_test_name,X_test_distance, X_test_source)).tocsr()\n",
    "\n",
    "print(xtrain.shape, Y_train.shape)\n",
    "print(xtest.shape, Y_test.shape)\n",
    "\n"
   ]
  },
  {
   "cell_type": "markdown",
   "metadata": {},
   "source": [
    "### 5. Hyperparameter Tuning in Linear Regression using GridsearchCV"
   ]
  },
  {
   "cell_type": "code",
   "execution_count": 42,
   "metadata": {},
   "outputs": [
    {
     "name": "stdout",
     "output_type": "stream",
     "text": [
      "Best parameter is  {'fit_intercept': True, 'normalize': False}\n",
      "Best score is 0.8614980864555385\n"
     ]
    }
   ],
   "source": [
    "from sklearn.metrics import make_scorer,mean_squared_error,accuracy_score\n",
    "model = LinearRegression()\n",
    "parameters= {'fit_intercept':[True,False], 'normalize':[True,False]}\n",
    "reg= GridSearchCV(model, parameters, cv= 5)\n",
    "reg.fit(xtrain, Y_train)\n",
    "score= reg.best_score_\n",
    "param= reg.best_params_\n",
    "print(\"Best parameter is \", param)\n",
    "print(\"Best score is\", score)\n"
   ]
  },
  {
   "cell_type": "markdown",
   "metadata": {},
   "source": [
    "### 6. Ridge Regularization"
   ]
  },
  {
   "cell_type": "markdown",
   "metadata": {},
   "source": [
    "#### Hyperparameter Tuning"
   ]
  },
  {
   "cell_type": "code",
   "execution_count": 21,
   "metadata": {},
   "outputs": [
    {
     "name": "stdout",
     "output_type": "stream",
     "text": [
      "Best value of lambda is  Ridge(alpha=0.1)\n",
      "Best score is 0.8535953403519351\n"
     ]
    }
   ],
   "source": [
    "model_1= Ridge()\n",
    "parameters_1 = {'alpha': [0.001, 0.01, 0.1, 1, 10, 100, 1000]}\n",
    "clf_1 = GridSearchCV(model_1,parameters_1, cv= 5, scoring = 'r2')\n",
    "clf_1.fit(xtrain, Y_train)\n",
    "param_1 = clf_1.best_estimator_\n",
    "score_1 = clf_1.best_score_\n",
    "print(\"Best value of lambda is \",param_1 )\n",
    "print(\"Best score is\", score_1)\n"
   ]
  },
  {
   "cell_type": "markdown",
   "metadata": {},
   "source": [
    "#### Variation of Coefficients with Log of Lambda"
   ]
  },
  {
   "cell_type": "code",
   "execution_count": 59,
   "metadata": {
    "scrolled": true
   },
   "outputs": [
    {
     "data": {
      "image/png": "[encoded data removed]",
      "text/plain": [
       "<Figure size 720x360 with 1 Axes>"
      ]
     },
     "metadata": {
      "needs_background": "light"
     },
     "output_type": "display_data"
    }
   ],
   "source": [
    "alpha_1 = [0.001, 0.01, 0.1, 1, 10, 100, 1000]\n",
    "coefficients_1 = []\n",
    "lambda_1 = []\n",
    "for i in alpha_1:\n",
    "    b= np.log(i)\n",
    "    lambda_1.append(b)\n",
    "for i in alpha_1:\n",
    "    model = Ridge(alpha = i)\n",
    "    model.fit(xtrain, Y_train)\n",
    "    coeff = model.coef_\n",
    "    coefficients_1.append(coeff)\n",
    "    \n",
    "\n",
    "\n",
    "plt.figure(figsize=(10,5))\n",
    "plt.plot(lambda_1,coefficients_1)\n",
    "plt.xlabel(\"log lambda\")\n",
    "plt.ylabel(\"coefficients\")\n",
    "plt.title(\"Log of Lambda vs Coefficients for Ridge Regularization\")\n",
    "plt.show()"
   ]
  },
  {
   "cell_type": "markdown",
   "metadata": {},
   "source": [
    "#### The coefficients are constant at all the values of log of lambda. However, as log of lambda approaches towards zero, the coefficients tend to shrink. "
   ]
  },
  {
   "cell_type": "code",
   "execution_count": 64,
   "metadata": {},
   "outputs": [
    {
     "name": "stdout",
     "output_type": "stream",
     "text": [
      "distance : 0.010819113532774574\n",
      "cab_type : 0.010819113532774574\n",
      "time_stamp : -0.009591096250214502\n",
      "destination : -0.02187099223788\n",
      "source : -0.0056577891757189774\n",
      "surge_multiplier : -0.02084745876720991\n",
      "name : -0.0077237718555984\n",
      "date_time : -0.04235952292138225\n",
      "time : 0.0011617981083196576\n",
      "date : -0.009591096250214502\n",
      "hour : 0.016261876918794323\n",
      "day : 0.03305808429459951\n",
      "time_of_day : -0.03761715452921257\n"
     ]
    }
   ],
   "source": [
    "model_1 = Ridge(alpha= 0.1)\n",
    "model_1.fit(xtrain,Y_train)\n",
    "coeff_1= model_1.coef_\n",
    "\n",
    "\n",
    "#https://towardsdatascience.com/linear-regression-models-4a3d14b8d368\n",
    "for i, j in enumerate(X_train.columns):\n",
    "    print(j,\":\", coeff_1[i])"
   ]
  },
  {
   "cell_type": "markdown",
   "metadata": {},
   "source": [
    "#### Model Performance"
   ]
  },
  {
   "cell_type": "code",
   "execution_count": 50,
   "metadata": {},
   "outputs": [
    {
     "name": "stdout",
     "output_type": "stream",
     "text": [
      "Mean Squared Error is 0.14550140422000235\n",
      "Mean Absolute Error is 0.2516443614906708\n",
      "Root Mean Squared Error is 0.38144646311114533\n",
      "R2 score is: 0.8545922452816294\n"
     ]
    }
   ],
   "source": [
    "model_1 = Ridge(alpha = 0.1)\n",
    "model_1.fit(xtrain, Y_train)\n",
    "y_pred= model_1.predict(xtest)\n",
    "MSE = sklearn.metrics.mean_squared_error(Y_test, y_pred)\n",
    "MAE = sklearn.metrics.mean_absolute_error(Y_test, y_pred)\n",
    "RMSE = math.sqrt(MSE)\n",
    "R2 = sklearn.metrics.r2_score(Y_test, y_pred)\n",
    "print(\"Mean Squared Error is\", MSE)\n",
    "print(\"Mean Absolute Error is\", MAE)\n",
    "print(\"Root Mean Squared Error is\", RMSE)\n",
    "print(\"R2 score is:\", R2)\n",
    "                                          "
   ]
  },
  {
   "cell_type": "code",
   "execution_count": 53,
   "metadata": {
    "scrolled": true
   },
   "outputs": [
    {
     "data": {
      "image/png": "[encoded data removed]",
      "text/plain": [
       "<Figure size 720x360 with 1 Axes>"
      ]
     },
     "metadata": {
      "needs_background": "light"
     },
     "output_type": "display_data"
    }
   ],
   "source": [
    "alpha_1 = [0.001, 0.01, 0.1, 1, 10, 100, 1000]\n",
    "train_error = []\n",
    "test_error = []\n",
    "lambda_1 = []\n",
    "for i in alpha_1:\n",
    "    b= np.log(i)\n",
    "    lambda_1.append(b)\n",
    "for i in alpha_1:\n",
    "    model_1 = Ridge(i)\n",
    "    model_1.fit(xtrain,Y_train)\n",
    "    y_te_pred= model_1.predict(xtest)\n",
    "    mse_2 = sklearn.metrics.mean_squared_error(Y_test, y_te_pred)\n",
    "    rmse_2 = np.sqrt(mse_2)\n",
    "    test_error.append(rmse_2)\n",
    "    \n",
    "plt.figure(figsize=(10,5))\n",
    "plt.plot(lambda_1, test_error, label='test error')\n",
    "plt.scatter(lambda_1, test_error)\n",
    "plt.xlabel(\"log lambda\", fontsize = 11)\n",
    "plt.ylabel(\"Root Mean Squared Error (RMSE)\", fontsize = 11)\n",
    "plt.title(\"Log of Lambda vs RMSE for Ridge Regularization\", fontsize = 12)\n",
    "plt.legend()\n",
    "plt.show()\n",
    "    \n"
   ]
  },
  {
   "cell_type": "markdown",
   "metadata": {},
   "source": [
    "#### RMSE values for test data are constant at lower values of log of lambda.  "
   ]
  },
  {
   "cell_type": "markdown",
   "metadata": {},
   "source": [
    "### 7. Lasso Regularization"
   ]
  },
  {
   "cell_type": "markdown",
   "metadata": {},
   "source": [
    "#### Hyperparameter Tuning"
   ]
  },
  {
   "cell_type": "code",
   "execution_count": 52,
   "metadata": {},
   "outputs": [
    {
     "name": "stdout",
     "output_type": "stream",
     "text": [
      "Best value of lambda is  Lasso(alpha=0.001)\n",
      "Best score is 0.8530761127800659\n"
     ]
    }
   ],
   "source": [
    "model_2 = Lasso()\n",
    "parameters_2 = {'alpha':[0.001, 0.01, 0.1, 1, 10, 100, 1000]}\n",
    "clf_2 = GridSearchCV(model_2,parameters_2, cv= 5 , scoring = 'r2' )\n",
    "clf_2.fit(xtrain, Y_train)\n",
    "params_2 = clf_2.best_estimator_\n",
    "score_2 = clf_2.best_score_\n",
    "print(\"Best value of lambda is \", params_2)\n",
    "print(\"Best score is\", score_2)"
   ]
  },
  {
   "cell_type": "markdown",
   "metadata": {},
   "source": [
    "#### Variations of Coefficients with Log of Lambda"
   ]
  },
  {
   "cell_type": "code",
   "execution_count": 61,
   "metadata": {},
   "outputs": [
    {
     "data": {
      "image/png": "[encoded data removed]",
      "text/plain": [
       "<Figure size 720x360 with 1 Axes>"
      ]
     },
     "metadata": {
      "needs_background": "light"
     },
     "output_type": "display_data"
    }
   ],
   "source": [
    "alpha_2 = [0.001, 0.01, 0.1, 1, 10, 100, 1000]\n",
    "lambda_2 = []\n",
    "for i in alpha_2:\n",
    "    b= np.log(i)\n",
    "    lambda_2.append(b)\n",
    "coefficient_2 = []\n",
    "for i in alpha_2:\n",
    "    model_2 = Lasso(alpha= i)\n",
    "    model_2.fit(xtrain,Y_train)\n",
    "    coeff_2= model_2.coef_\n",
    "    coefficient_2.append(coeff_2)\n",
    "\n",
    "    \n",
    "plt.figure(figsize=(10,5))\n",
    "plt.plot(lambda_2, coefficient_2)\n",
    "plt.xlabel(\"log lamda\")\n",
    "plt.ylabel(\"coefficients\")\n",
    "plt.title(\"Log of Lambda vs Coefficients for Lasso Regularization\")\n",
    "plt.show()"
   ]
  },
  {
   "cell_type": "markdown",
   "metadata": {},
   "source": [
    "#### The coefficients above zero are positive and the coefficients below zero are negative. The plot shows how the coefficients vary below the log lambda value of zero."
   ]
  },
  {
   "cell_type": "code",
   "execution_count": 65,
   "metadata": {},
   "outputs": [
    {
     "name": "stdout",
     "output_type": "stream",
     "text": [
      "distance : 0.0\n",
      "cab_type : 0.0\n",
      "time_stamp : -0.0\n",
      "destination : -0.0\n",
      "source : -0.0\n",
      "surge_multiplier : -0.0\n",
      "name : -0.0\n",
      "date_time : -0.024747690110682695\n",
      "time : -0.0\n",
      "date : -0.0\n",
      "hour : 0.002508279782662061\n",
      "day : 0.01951373621022991\n",
      "time_of_day : -0.005198755761046762\n"
     ]
    }
   ],
   "source": [
    "model_2 = Lasso(alpha= 0.001)\n",
    "model_2.fit(xtrain,Y_train)\n",
    "coeff_2= model_2.coef_\n",
    "coefficient_2.append(coeff_2)\n",
    "\n",
    "#https://towardsdatascience.com/linear-regression-models-4a3d14b8d368\n",
    "for i, j in enumerate(X_train.columns):\n",
    "    print(j,\":\", coeff_2[i])"
   ]
  },
  {
   "cell_type": "markdown",
   "metadata": {},
   "source": [
    "#### Model Performance"
   ]
  },
  {
   "cell_type": "code",
   "execution_count": 54,
   "metadata": {},
   "outputs": [
    {
     "name": "stdout",
     "output_type": "stream",
     "text": [
      "Mean Squared Error is 0.14600565346505615\n",
      "Mean Absolute Error is 0.25265763520715706\n",
      "Root Mean Squared Error is 0.38210686131638116\n",
      "R2 score is: 0.8540883205880172\n"
     ]
    }
   ],
   "source": [
    "model_2 = Lasso(alpha = 0.001)\n",
    "model_2.fit(xtrain, Y_train)\n",
    "y_pred= model_2.predict(xtest)\n",
    "MSE = sklearn.metrics.mean_squared_error(Y_test, y_pred)\n",
    "MAE = sklearn.metrics.mean_absolute_error(Y_test, y_pred)\n",
    "RMSE = math.sqrt(MSE)\n",
    "R2 = sklearn.metrics.r2_score(Y_test, y_pred)\n",
    "print(\"Mean Squared Error is\", MSE)\n",
    "print(\"Mean Absolute Error is\", MAE)\n",
    "print(\"Root Mean Squared Error is\", RMSE)\n",
    "print(\"R2 score is:\", R2)\n",
    "                         "
   ]
  },
  {
   "cell_type": "code",
   "execution_count": 52,
   "metadata": {
    "scrolled": true
   },
   "outputs": [
    {
     "data": {
      "image/png": "[encoded data removed]",
      "text/plain": [
       "<Figure size 720x360 with 1 Axes>"
      ]
     },
     "metadata": {
      "needs_background": "light"
     },
     "output_type": "display_data"
    }
   ],
   "source": [
    "alpha_2 = [0.001, 0.01, 0.1, 1, 10, 100, 1000]\n",
    "train_error = []\n",
    "test_error = []\n",
    "lambda_2 = []\n",
    "for i in alpha_2:\n",
    "    b= np.log(i)\n",
    "    lambda_2.append(b)\n",
    "for i in alpha_2:\n",
    "    model_2 = Lasso(alpha = i)\n",
    "    model_2.fit(xtrain, Y_train)\n",
    "    y_tr_pred= model_2.predict(xtrain)\n",
    "    \n",
    "    y_te_pred= model_2.predict(xtest)\n",
    "    mse_2 = sklearn.metrics.mean_squared_error(Y_test, y_te_pred)\n",
    "    rmse_2 = np.sqrt(mse_2)\n",
    "    test_error.append(rmse_2)\n",
    "    \n",
    "plt.figure(figsize=(10,5))\n",
    "plt.plot(lambda_2, test_error, label='test error')\n",
    "plt.scatter(lambda_2, test_error)\n",
    "plt.xlabel(\"log lambda\", fontsize = 11)\n",
    "plt.ylabel(\"Root Mean Squared Error (RMSE)\", fontsize = 11)\n",
    "plt.title(\"Log of Lambda vs RMSE for Lasso Regularization\", fontsize = 12)\n",
    "plt.legend()\n",
    "plt.show()\n",
    "    \n"
   ]
  },
  {
   "cell_type": "markdown",
   "metadata": {},
   "source": [
    "#### At lower values of log of lambda, the error is less. However, it is increasing with the increase in log of lambda."
   ]
  },
  {
   "cell_type": "markdown",
   "metadata": {},
   "source": [
    "### 8. Elastic Net Regularization"
   ]
  },
  {
   "cell_type": "markdown",
   "metadata": {},
   "source": [
    "#### Hyperparameter Tuning"
   ]
  },
  {
   "cell_type": "code",
   "execution_count": 56,
   "metadata": {},
   "outputs": [
    {
     "name": "stdout",
     "output_type": "stream",
     "text": [
      "Best value of lambda is  ElasticNet(alpha=0.001)\n",
      "Best score is 0.853423020951275\n"
     ]
    }
   ],
   "source": [
    "model_3= ElasticNet()\n",
    "parameters_3 = {'alpha': [0.001, 0.01, 0.1, 1, 10, 100, 1000]}\n",
    "clf_3 = GridSearchCV(model_3,parameters_3, cv= 5, scoring = 'r2')\n",
    "clf_3.fit(xtrain, Y_train)\n",
    "param_3 = clf_3.best_estimator_\n",
    "score_3 = clf_3.best_score_\n",
    "print(\"Best value of lambda is \",param_3 )\n",
    "print(\"Best score is\", score_3)\n",
    "\n"
   ]
  },
  {
   "cell_type": "markdown",
   "metadata": {},
   "source": [
    "#### Variation of Coefficients at different values of Log of Lambda"
   ]
  },
  {
   "cell_type": "code",
   "execution_count": 66,
   "metadata": {},
   "outputs": [
    {
     "data": {
      "image/png": "[encoded data removed]",
      "text/plain": [
       "<Figure size 720x360 with 1 Axes>"
      ]
     },
     "metadata": {
      "needs_background": "light"
     },
     "output_type": "display_data"
    }
   ],
   "source": [
    "alpha_3 = [0.001, 0.01, 0.1, 1, 10, 100, 1000]\n",
    "lambda_3 = []\n",
    "for i in alpha_3:\n",
    "    b= np.log(i)\n",
    "    lambda_3.append(b)\n",
    "coefficient_3 = []\n",
    "for i in alpha_3:\n",
    "    model_3 = ElasticNet(alpha= i)\n",
    "    model_3.fit(xtrain,Y_train)\n",
    "    coeff_3= model_3.coef_\n",
    "    coefficient_3.append(coeff_3)\n",
    "\n",
    "\n",
    "    \n",
    "plt.figure(figsize=(10,5))\n",
    "plt.plot(lambda_3, coefficient_3)\n",
    "plt.xlabel(\"log lamda\")\n",
    "plt.ylabel(\"coefficients\")\n",
    "plt.title(\"Log of Lambda vs Coefficients for Elastic Net Regularization\")\n",
    "plt.show()"
   ]
  },
  {
   "cell_type": "markdown",
   "metadata": {},
   "source": [
    "#### When lamda becomes zero, there is no regularization. The coefficients become unregularized and those variables that are shrinking at zero can be discarded as part of feature selection."
   ]
  },
  {
   "cell_type": "code",
   "execution_count": 68,
   "metadata": {},
   "outputs": [
    {
     "name": "stdout",
     "output_type": "stream",
     "text": [
      "distance : 0.006073983384175007\n",
      "cab_type : 0.006060224571099087\n",
      "time_stamp : -0.002057205860644651\n",
      "destination : -0.00021721097705552944\n",
      "source : -0.0\n",
      "surge_multiplier : -0.0\n",
      "name : -0.0\n",
      "date_time : -0.0330742510561407\n",
      "time : 0.0\n",
      "date : -0.002051225907953405\n",
      "hour : 0.006898521194535255\n",
      "day : 0.03307067869504214\n",
      "time_of_day : -0.01822584241137497\n"
     ]
    }
   ],
   "source": [
    "model_3 = ElasticNet(alpha= 0.001)\n",
    "model_3.fit(xtrain,Y_train)\n",
    "coeff_3= model_3.coef_\n",
    "\n",
    "#https://towardsdatascience.com/linear-regression-models-4a3d14b8d368\n",
    "for i, j in enumerate(X_train.columns):\n",
    "    print(j,\":\", coeff_3[i])"
   ]
  },
  {
   "cell_type": "markdown",
   "metadata": {},
   "source": [
    "#### Model Performance"
   ]
  },
  {
   "cell_type": "code",
   "execution_count": 58,
   "metadata": {},
   "outputs": [
    {
     "name": "stdout",
     "output_type": "stream",
     "text": [
      "Mean Squared Error is 0.14567007371018154\n",
      "Mean Absolute Error is 0.2524572976812841\n",
      "Root Mean Squared Error is 0.3816674910313708\n",
      "R2 score is: 0.8544236843526959\n"
     ]
    }
   ],
   "source": [
    "model_3 = ElasticNet(alpha = 0.001)\n",
    "model_3.fit(xtrain, Y_train)\n",
    "y_pred= model_3.predict(xtest)\n",
    "MSE = sklearn.metrics.mean_squared_error(Y_test, y_pred)\n",
    "MAE = sklearn.metrics.mean_absolute_error(Y_test, y_pred)\n",
    "RMSE = math.sqrt(MSE)\n",
    "R2 = sklearn.metrics.r2_score(Y_test, y_pred)\n",
    "print(\"Mean Squared Error is\", MSE)\n",
    "print(\"Mean Absolute Error is\", MAE)\n",
    "print(\"Root Mean Squared Error is\", RMSE)\n",
    "print(\"R2 score is:\", R2)"
   ]
  },
  {
   "cell_type": "code",
   "execution_count": 54,
   "metadata": {},
   "outputs": [
    {
     "data": {
      "image/png": "[encoded data removed]",
      "text/plain": [
       "<Figure size 720x360 with 1 Axes>"
      ]
     },
     "metadata": {
      "needs_background": "light"
     },
     "output_type": "display_data"
    }
   ],
   "source": [
    "alpha_3 = [0.001, 0.01, 0.1, 1, 10, 100, 1000]\n",
    "train_error = []\n",
    "test_error = []\n",
    "lambda_3 = []\n",
    "for i in alpha_3:\n",
    "    b= np.log(i)\n",
    "    lambda_3.append(b)\n",
    "for i in alpha_3:\n",
    "    model_3 = ElasticNet(alpha = i)\n",
    "    model_3.fit(xtrain, Y_train)\n",
    "    \n",
    "    y_te_pred= model_3.predict(xtest)\n",
    "    mse_2 = sklearn.metrics.mean_squared_error(Y_test, y_te_pred)\n",
    "    rmse_2 = np.sqrt(mse_2)\n",
    "    test_error.append(rmse_2)\n",
    "    \n",
    "plt.figure(figsize=(10,5))\n",
    "plt.plot(lambda_1, test_error, label='test error')\n",
    "plt.scatter(lambda_1, test_error)\n",
    "plt.xlabel(\"log lambda\", fontsize = 11)\n",
    "plt.ylabel(\"Root Mean Squared Error\", fontsize = 11)\n",
    "plt.title(\"Hyperparameter- log lambda vs RMSE curve for Elastic Net Regularization\", fontsize = 12)\n",
    "plt.legend()\n",
    "plt.show()\n",
    "    \n"
   ]
  },
  {
   "cell_type": "markdown",
   "metadata": {},
   "source": [
    "#### RMSE value increses as log of lambda approches towards zero. "
   ]
  },
  {
   "cell_type": "code",
   "execution_count": 105,
   "metadata": {},
   "outputs": [
    {
     "data": {
      "image/png": "[encoded data removed]",
      "text/plain": [
       "<Figure size 720x360 with 1 Axes>"
      ]
     },
     "metadata": {
      "needs_background": "light"
     },
     "output_type": "display_data"
    }
   ],
   "source": [
    "model_3 = ElasticNet(alpha = 0.001)\n",
    "model_3.fit(xtrain, Y_train)\n",
    "y_pred_3 = model_3.predict(xtest)\n",
    "\n",
    "plt.figure(figsize=(10,5))\n",
    "sns.scatterplot(x= Y_test, y= y_pred_3)\n",
    "plt.xlabel(\"Actual\", fontsize = 11)\n",
    "plt.ylabel(\"Predicted\", fontsize= 11)\n",
    "plt.title(\"Actual vs Predicted values in Elastic Net Regularization\", fontsize =12)\n",
    "plt.show()\n",
    "\n",
    "\n"
   ]
  },
  {
   "cell_type": "markdown",
   "metadata": {},
   "source": [
    "#### There is a significant deviation of predicted values from actual values near about zero. "
   ]
  },
  {
   "cell_type": "markdown",
   "metadata": {},
   "source": [
    "### 9. Inferences and Conclusions"
   ]
  },
  {
   "cell_type": "markdown",
   "metadata": {},
   "source": [
    "#### 1. Data preprocessing has been performed to make the data model ready.\n",
    "#### 2. Linear Regression does not have lambda as its parameter. So, after performing hyperparameter tuning using GridsearchCV, we have got fit_intercept = True and normalize = False as the best parameters.\n",
    "#### 3. Regularization has been used to avoid the problem of multicollinearity."
   ]
  }
 ],
 "metadata": {
  "kernelspec": {
   "display_name": "Python 3",
   "language": "python",
   "name": "python3"
  },
  "language_info": {
   "codemirror_mode": {
    "name": "ipython",
    "version": 3
   },
   "file_extension": ".py",
   "mimetype": "text/x-python",
   "name": "python",
   "nbconvert_exporter": "python",
   "pygments_lexer": "ipython3",
   "version": "3.8.5"
  }
 },
 "nbformat": 4,
 "nbformat_minor": 4
}
